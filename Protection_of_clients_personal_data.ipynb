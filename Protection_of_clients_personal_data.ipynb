{
 "cells": [
  {
   "cell_type": "markdown",
   "id": "1755b603",
   "metadata": {},
   "source": [
    "# Защита персональных данных клиентов"
   ]
  },
  {
   "cell_type": "markdown",
   "id": "f8287bab",
   "metadata": {},
   "source": [
    "## Вступление"
   ]
  },
  {
   "cell_type": "markdown",
   "id": "4bf38c5c",
   "metadata": {},
   "source": [
    "**Описание:**\n",
    "\n",
    "В нашем распоряжение есть личные данных клиентов страховой компании. Необходимо защитить данные клиентов, разработать такой метод преобразования данных, чтобы по ним было сложно восстановить персональную информацию. Обосновать корректность его работы. Также нужно защитить данные так, чтобы при преобразовании качество моделей машинного обучения не ухудшилось. Подбирать наилучшую модель не требуется.\n",
    "\n",
    "**Цель:** Найти и обосновать способ шифрования персональных данных без потери качества модели машинного обучения.\n",
    "\n",
    "**Задачи:**\n",
    "\n",
    "- Загрузитб и изучите данные.\n",
    "- Ответить на вопрос и обосновать решение: \"Признаки умножают на обратимую матрицу. Изменится ли качество линейной регрессии? (Её можно обучить заново.)\"<br>\n",
    "        a. Изменится. Приведите примеры матриц.<br>\n",
    "        b. Не изменится. Укажите, как связаны параметры линейной регрессии в исходной задаче и в преобразованной.\n",
    "- Предложить алгоритм преобразования данных для решения задачи. Обосновать, почему качество линейной регрессии не поменяется.\n",
    "- Запрограммировать этот алгоритм, применив матричные операции. Проверить, что качество линейной регрессии из sklearn не отличается до и после преобразования. Применить метрику R2.\n",
    "\n",
    "**Описание данных:**\n",
    "\n",
    "- Признаки: пол, возраст и зарплата застрахованного, количество членов его семьи.\n",
    "- Целевой признак: количество страховых выплат клиенту за последние 5 лет."
   ]
  },
  {
   "cell_type": "code",
   "execution_count": 1,
   "id": "d865283f",
   "metadata": {},
   "outputs": [],
   "source": [
    "import pandas as pd\n",
    "import numpy as np\n",
    "from sklearn.model_selection import train_test_split\n",
    "from sklearn.metrics import r2_score\n",
    "import random as r"
   ]
  },
  {
   "cell_type": "code",
   "execution_count": 2,
   "id": "bc9adb2b",
   "metadata": {},
   "outputs": [],
   "source": [
    "try:\n",
    "    data = pd.read_csv('insurance.csv')\n",
    "except FileNotFoundError:\n",
    "    data = pd.read_csv('/datasets/insurance.csv')"
   ]
  },
  {
   "cell_type": "code",
   "execution_count": 3,
   "id": "63681887",
   "metadata": {},
   "outputs": [
    {
     "data": {
      "text/html": [
       "<div>\n",
       "<style scoped>\n",
       "    .dataframe tbody tr th:only-of-type {\n",
       "        vertical-align: middle;\n",
       "    }\n",
       "\n",
       "    .dataframe tbody tr th {\n",
       "        vertical-align: top;\n",
       "    }\n",
       "\n",
       "    .dataframe thead th {\n",
       "        text-align: right;\n",
       "    }\n",
       "</style>\n",
       "<table border=\"1\" class=\"dataframe\">\n",
       "  <thead>\n",
       "    <tr style=\"text-align: right;\">\n",
       "      <th></th>\n",
       "      <th>Пол</th>\n",
       "      <th>Возраст</th>\n",
       "      <th>Зарплата</th>\n",
       "      <th>Члены семьи</th>\n",
       "      <th>Страховые выплаты</th>\n",
       "    </tr>\n",
       "  </thead>\n",
       "  <tbody>\n",
       "    <tr>\n",
       "      <th>0</th>\n",
       "      <td>1</td>\n",
       "      <td>41.0</td>\n",
       "      <td>49600.0</td>\n",
       "      <td>1</td>\n",
       "      <td>0</td>\n",
       "    </tr>\n",
       "    <tr>\n",
       "      <th>1</th>\n",
       "      <td>0</td>\n",
       "      <td>46.0</td>\n",
       "      <td>38000.0</td>\n",
       "      <td>1</td>\n",
       "      <td>1</td>\n",
       "    </tr>\n",
       "    <tr>\n",
       "      <th>2</th>\n",
       "      <td>0</td>\n",
       "      <td>29.0</td>\n",
       "      <td>21000.0</td>\n",
       "      <td>0</td>\n",
       "      <td>0</td>\n",
       "    </tr>\n",
       "    <tr>\n",
       "      <th>3</th>\n",
       "      <td>0</td>\n",
       "      <td>21.0</td>\n",
       "      <td>41700.0</td>\n",
       "      <td>2</td>\n",
       "      <td>0</td>\n",
       "    </tr>\n",
       "    <tr>\n",
       "      <th>4</th>\n",
       "      <td>1</td>\n",
       "      <td>28.0</td>\n",
       "      <td>26100.0</td>\n",
       "      <td>0</td>\n",
       "      <td>0</td>\n",
       "    </tr>\n",
       "    <tr>\n",
       "      <th>...</th>\n",
       "      <td>...</td>\n",
       "      <td>...</td>\n",
       "      <td>...</td>\n",
       "      <td>...</td>\n",
       "      <td>...</td>\n",
       "    </tr>\n",
       "    <tr>\n",
       "      <th>4995</th>\n",
       "      <td>0</td>\n",
       "      <td>28.0</td>\n",
       "      <td>35700.0</td>\n",
       "      <td>2</td>\n",
       "      <td>0</td>\n",
       "    </tr>\n",
       "    <tr>\n",
       "      <th>4996</th>\n",
       "      <td>0</td>\n",
       "      <td>34.0</td>\n",
       "      <td>52400.0</td>\n",
       "      <td>1</td>\n",
       "      <td>0</td>\n",
       "    </tr>\n",
       "    <tr>\n",
       "      <th>4997</th>\n",
       "      <td>0</td>\n",
       "      <td>20.0</td>\n",
       "      <td>33900.0</td>\n",
       "      <td>2</td>\n",
       "      <td>0</td>\n",
       "    </tr>\n",
       "    <tr>\n",
       "      <th>4998</th>\n",
       "      <td>1</td>\n",
       "      <td>22.0</td>\n",
       "      <td>32700.0</td>\n",
       "      <td>3</td>\n",
       "      <td>0</td>\n",
       "    </tr>\n",
       "    <tr>\n",
       "      <th>4999</th>\n",
       "      <td>1</td>\n",
       "      <td>28.0</td>\n",
       "      <td>40600.0</td>\n",
       "      <td>1</td>\n",
       "      <td>0</td>\n",
       "    </tr>\n",
       "  </tbody>\n",
       "</table>\n",
       "<p>5000 rows × 5 columns</p>\n",
       "</div>"
      ],
      "text/plain": [
       "      Пол  Возраст  Зарплата  Члены семьи  Страховые выплаты\n",
       "0       1     41.0   49600.0            1                  0\n",
       "1       0     46.0   38000.0            1                  1\n",
       "2       0     29.0   21000.0            0                  0\n",
       "3       0     21.0   41700.0            2                  0\n",
       "4       1     28.0   26100.0            0                  0\n",
       "...   ...      ...       ...          ...                ...\n",
       "4995    0     28.0   35700.0            2                  0\n",
       "4996    0     34.0   52400.0            1                  0\n",
       "4997    0     20.0   33900.0            2                  0\n",
       "4998    1     22.0   32700.0            3                  0\n",
       "4999    1     28.0   40600.0            1                  0\n",
       "\n",
       "[5000 rows x 5 columns]"
      ]
     },
     "execution_count": 3,
     "metadata": {},
     "output_type": "execute_result"
    }
   ],
   "source": [
    "data"
   ]
  },
  {
   "cell_type": "code",
   "execution_count": 4,
   "id": "75ac7770",
   "metadata": {},
   "outputs": [
    {
     "name": "stdout",
     "output_type": "stream",
     "text": [
      "<class 'pandas.core.frame.DataFrame'>\n",
      "RangeIndex: 5000 entries, 0 to 4999\n",
      "Data columns (total 5 columns):\n",
      " #   Column             Non-Null Count  Dtype  \n",
      "---  ------             --------------  -----  \n",
      " 0   Пол                5000 non-null   int64  \n",
      " 1   Возраст            5000 non-null   float64\n",
      " 2   Зарплата           5000 non-null   float64\n",
      " 3   Члены семьи        5000 non-null   int64  \n",
      " 4   Страховые выплаты  5000 non-null   int64  \n",
      "dtypes: float64(2), int64(3)\n",
      "memory usage: 195.4 KB\n"
     ]
    }
   ],
   "source": [
    "data.info()"
   ]
  },
  {
   "cell_type": "code",
   "execution_count": 5,
   "id": "b29cba33",
   "metadata": {},
   "outputs": [
    {
     "data": {
      "text/html": [
       "<div>\n",
       "<style scoped>\n",
       "    .dataframe tbody tr th:only-of-type {\n",
       "        vertical-align: middle;\n",
       "    }\n",
       "\n",
       "    .dataframe tbody tr th {\n",
       "        vertical-align: top;\n",
       "    }\n",
       "\n",
       "    .dataframe thead th {\n",
       "        text-align: right;\n",
       "    }\n",
       "</style>\n",
       "<table border=\"1\" class=\"dataframe\">\n",
       "  <thead>\n",
       "    <tr style=\"text-align: right;\">\n",
       "      <th></th>\n",
       "      <th>Пол</th>\n",
       "      <th>Возраст</th>\n",
       "      <th>Зарплата</th>\n",
       "      <th>Члены семьи</th>\n",
       "      <th>Страховые выплаты</th>\n",
       "    </tr>\n",
       "  </thead>\n",
       "  <tbody>\n",
       "    <tr>\n",
       "      <th>count</th>\n",
       "      <td>5000.000000</td>\n",
       "      <td>5000.000000</td>\n",
       "      <td>5000.000000</td>\n",
       "      <td>5000.000000</td>\n",
       "      <td>5000.000000</td>\n",
       "    </tr>\n",
       "    <tr>\n",
       "      <th>mean</th>\n",
       "      <td>0.499000</td>\n",
       "      <td>30.952800</td>\n",
       "      <td>39916.360000</td>\n",
       "      <td>1.194200</td>\n",
       "      <td>0.148000</td>\n",
       "    </tr>\n",
       "    <tr>\n",
       "      <th>std</th>\n",
       "      <td>0.500049</td>\n",
       "      <td>8.440807</td>\n",
       "      <td>9900.083569</td>\n",
       "      <td>1.091387</td>\n",
       "      <td>0.463183</td>\n",
       "    </tr>\n",
       "    <tr>\n",
       "      <th>min</th>\n",
       "      <td>0.000000</td>\n",
       "      <td>18.000000</td>\n",
       "      <td>5300.000000</td>\n",
       "      <td>0.000000</td>\n",
       "      <td>0.000000</td>\n",
       "    </tr>\n",
       "    <tr>\n",
       "      <th>25%</th>\n",
       "      <td>0.000000</td>\n",
       "      <td>24.000000</td>\n",
       "      <td>33300.000000</td>\n",
       "      <td>0.000000</td>\n",
       "      <td>0.000000</td>\n",
       "    </tr>\n",
       "    <tr>\n",
       "      <th>50%</th>\n",
       "      <td>0.000000</td>\n",
       "      <td>30.000000</td>\n",
       "      <td>40200.000000</td>\n",
       "      <td>1.000000</td>\n",
       "      <td>0.000000</td>\n",
       "    </tr>\n",
       "    <tr>\n",
       "      <th>75%</th>\n",
       "      <td>1.000000</td>\n",
       "      <td>37.000000</td>\n",
       "      <td>46600.000000</td>\n",
       "      <td>2.000000</td>\n",
       "      <td>0.000000</td>\n",
       "    </tr>\n",
       "    <tr>\n",
       "      <th>max</th>\n",
       "      <td>1.000000</td>\n",
       "      <td>65.000000</td>\n",
       "      <td>79000.000000</td>\n",
       "      <td>6.000000</td>\n",
       "      <td>5.000000</td>\n",
       "    </tr>\n",
       "  </tbody>\n",
       "</table>\n",
       "</div>"
      ],
      "text/plain": [
       "               Пол      Возраст      Зарплата  Члены семьи  Страховые выплаты\n",
       "count  5000.000000  5000.000000   5000.000000  5000.000000        5000.000000\n",
       "mean      0.499000    30.952800  39916.360000     1.194200           0.148000\n",
       "std       0.500049     8.440807   9900.083569     1.091387           0.463183\n",
       "min       0.000000    18.000000   5300.000000     0.000000           0.000000\n",
       "25%       0.000000    24.000000  33300.000000     0.000000           0.000000\n",
       "50%       0.000000    30.000000  40200.000000     1.000000           0.000000\n",
       "75%       1.000000    37.000000  46600.000000     2.000000           0.000000\n",
       "max       1.000000    65.000000  79000.000000     6.000000           5.000000"
      ]
     },
     "execution_count": 5,
     "metadata": {},
     "output_type": "execute_result"
    }
   ],
   "source": [
    "data.describe()"
   ]
  },
  {
   "cell_type": "code",
   "execution_count": 6,
   "id": "67d41fbb",
   "metadata": {},
   "outputs": [
    {
     "data": {
      "text/plain": [
       "19.0    223\n",
       "25.0    214\n",
       "31.0    212\n",
       "26.0    211\n",
       "22.0    209\n",
       "27.0    209\n",
       "32.0    206\n",
       "Name: Возраст, dtype: int64"
      ]
     },
     "execution_count": 6,
     "metadata": {},
     "output_type": "execute_result"
    }
   ],
   "source": [
    "data['Возраст'].value_counts().head(7)"
   ]
  },
  {
   "cell_type": "code",
   "execution_count": 7,
   "id": "1314d114",
   "metadata": {},
   "outputs": [
    {
     "data": {
      "text/plain": [
       "45800.0    29\n",
       "37100.0    28\n",
       "41500.0    27\n",
       "43200.0    27\n",
       "46800.0    26\n",
       "38800.0    26\n",
       "32800.0    26\n",
       "Name: Зарплата, dtype: int64"
      ]
     },
     "execution_count": 7,
     "metadata": {},
     "output_type": "execute_result"
    }
   ],
   "source": [
    "data['Зарплата'].value_counts().head(7)"
   ]
  },
  {
   "cell_type": "markdown",
   "id": "38d226ed",
   "metadata": {},
   "source": [
    "Данные в целом хорошие. Пропусков нет. Единственно, что прям смущает немного это тип данных у возраста и зарплаты - стоят вещественный тип. Но по факту у нас только целые значения в обоих признаках. Но думаю это не критично.\n",
    "\n",
    "по количественным данным видим, что на первый взгляд данные распределны нормально. медиана и среднее значение относительно близко к друг другу находятся по значения. Каких то диких выбрсоов не наблюдается"
   ]
  },
  {
   "cell_type": "markdown",
   "id": "9898089b",
   "metadata": {},
   "source": [
    "### 2. Если признаки умножить на обратимую матрицу. Изменится ли качество линейной регрессии? (Её можно обучить заново.)\n",
    "a. Изменится. Приведите примеры матриц.<br>\n",
    "b. Не изменится. Укажите, как связаны параметры линейной регрессии в исходной задаче и в преобразованной."
   ]
  },
  {
   "cell_type": "markdown",
   "id": "b606cd11",
   "metadata": {},
   "source": [
    "Мой ответ, нет не изменится.\n",
    "\n",
    "Если у нас есть матрциа с признаками $Х$ размерностью $m x n$ и обратимая матрица $Z$ размерностью $n x n$. После перемножения мы получим матрицу $Х2$ размерностью так же $m x n$ соотвественно.\n",
    "\n",
    "Теперь запишем уравнение линейной регрессии для обоих случаев:\n",
    "\n",
    "$y = X*w + w0$, $y2 = X2*w2 + w02$.\n",
    "\n",
    "так как $Х2 = Х * Z$, то выразив $X2$ получаем следующее уравнение: $y2 = X*Z*w2 + w02$. \n",
    "\n",
    "Теперь сравним обе линейные регрессии. \n",
    "\n",
    "Для этого используем формулу для обучения линейной регрессии:\n",
    "$w=(X^{T}*X)^{-1}*X^{T}*y$\n",
    "\n",
    "Теперь представим, что мы умножили матрицу признаков $X$ на обратимую матрицу $Z$, получив $X2 = XZ$. Подставим $X2$ в формулу обучения:\n",
    "$w2=((X*Z)^{T}*X*Z)^{−1}(X*Z)^{T}*y$\n",
    "\n",
    "по правилу $(AB)^{T} = B^{T} * A ^{T}$ получаем:\n",
    "\n",
    "$w2=(Z^{T}*X^{T}*X*Z)^{−1}*Z^{T}*X^{T}*y$\n",
    "\n",
    "по правилу $(A*B)^{-1}=B^{-1}*A^{-1}$ получаем:\n",
    "\n",
    "$w2=Z^{−1}*(X^{T}*X)^{−1}*(Z^{T})^{−1}*Z^{T}*X^{T}*y$\n",
    "\n",
    "Так как $A * A^{-1} = E$, где $E$ - единичная матрица, а $A$ - любая обратимая матрциа, то получаем:\n",
    "\n",
    "$w2=Z^{−1}*(X^{T}*X)^{−1}* E * X^{T}*y$, и при умножении матрицы на единчную матрицу - поулчаем исходную матрицу, то затем вспоминаем, что $w=(X^{T}*X)^{−1}*X^{T}*y$, подставим.\n",
    "\n",
    "Итак, мы видим, что $w2 = Z^{-1} w$, $w02 = w0$.\n",
    "\n",
    "Таким образом, когда мы умножаем матрицу признаков на обратимую матрицу, параметры модели линейной регрессии также изменяются, но взаимосвязи между признаками и целевой переменной сохраняются, что позволяет сохранить качество линейной регрессии.\n",
    "\n",
    "Теперь эти закономерности подставим заново в $y2$:\n",
    "\n",
    "$y2 = X * Z * Z^{-1} * w + w0 = X * E * w + w0 = y$, где $Е$ - единчная матрциа, получающая при перемножении матрицы на ее обратную. Проверим."
   ]
  },
  {
   "cell_type": "code",
   "execution_count": 8,
   "id": "555970e1",
   "metadata": {},
   "outputs": [],
   "source": [
    "features = data.drop('Страховые выплаты', axis=1)\n",
    "target = data['Страховые выплаты']\n",
    "\n",
    "# data_train, data_test = train_test_split(data, test_size=0.7, random_state=12345)\n",
    "# X_train = data_train.drop('Страховые выплаты', axis=1)\n",
    "# Y_train = data_train['Страховые выплаты']\n",
    "# X_test = data_test.drop('Страховые выплаты', axis=1)\n",
    "# Y_test = data_test['Страховые выплаты']\n",
    "    "
   ]
  },
  {
   "cell_type": "markdown",
   "id": "12a58bba",
   "metadata": {},
   "source": [
    "Создадим функцию для создания рандомной обратимой матрицы необходимой размерности"
   ]
  },
  {
   "cell_type": "code",
   "execution_count": 9,
   "id": "1533f067",
   "metadata": {},
   "outputs": [
    {
     "name": "stdout",
     "output_type": "stream",
     "text": [
      "[[0.53590978 0.48459166 0.32356823 0.39815133]\n",
      " [0.66429819 0.05390658 0.33387405 0.3529248 ]\n",
      " [0.97937039 0.16643406 0.59457524 0.71997095]\n",
      " [0.59229971 0.38125375 0.11553582 0.51591593]]\n"
     ]
    }
   ],
   "source": [
    "def gen_randinvert_matrix(n):\n",
    "    while True:\n",
    "        random_matrix = np.random.rand(n, n) # случайная матрица размером n x n с числами из [0, 1)\n",
    "        if np.linalg.det(random_matrix) != 0: # проверка на обратимость\n",
    "            return random_matrix\n",
    "        \n",
    "randinvert_matrix = gen_randinvert_matrix(features.shape[1])\n",
    "print(randinvert_matrix)\n"
   ]
  },
  {
   "cell_type": "markdown",
   "id": "59292713",
   "metadata": {},
   "source": [
    "Создадим функцию для рассчета линейной регрессии без обратимой матрицы. Сразу же определим качество модели с помощью метрики R2"
   ]
  },
  {
   "cell_type": "code",
   "execution_count": 10,
   "id": "6e5fa7a5",
   "metadata": {},
   "outputs": [],
   "source": [
    "class LinearRegression:\n",
    "    def fit(self, train_features, train_target):\n",
    "        X = np.concatenate((np.ones((train_features.shape[0], 1)), train_features), axis=1)\n",
    "        y = train_target\n",
    "        w = np.linalg.inv(X.T.dot(X)).dot(X.T).dot(y)\n",
    "        self.w = w[1:]\n",
    "        self.w0 = w[0]\n",
    "\n",
    "    def predict(self, test_features):\n",
    "        return test_features.dot(self.w) + self.w0"
   ]
  },
  {
   "cell_type": "code",
   "execution_count": 11,
   "id": "265c7311",
   "metadata": {},
   "outputs": [
    {
     "name": "stdout",
     "output_type": "stream",
     "text": [
      "0.4249455028666801\n"
     ]
    }
   ],
   "source": [
    "model_1 = LinearRegression()\n",
    "model_1.fit(features, target)\n",
    "predictions_1 = model_1.predict(features)\n",
    "r2_1 = r2_score(target, predictions_1)\n",
    "print(r2_1)"
   ]
  },
  {
   "cell_type": "markdown",
   "id": "d11b77b2",
   "metadata": {},
   "source": [
    "Делаем тоже самое, но с добавлением обратимой матрциы. Для этого преобразуем сразу наши признаки путем умножения на рандомную обратимую матрицу."
   ]
  },
  {
   "cell_type": "code",
   "execution_count": 12,
   "id": "0ad5c169",
   "metadata": {},
   "outputs": [],
   "source": [
    "features_transformed = features.dot(randinvert_matrix)"
   ]
  },
  {
   "cell_type": "markdown",
   "id": "464c15ff",
   "metadata": {},
   "source": [
    "Далее делаем то же самое, используем нашу функцию, обучаем, предсказываем и считаем R2"
   ]
  },
  {
   "cell_type": "code",
   "execution_count": 13,
   "id": "90ce358e",
   "metadata": {},
   "outputs": [
    {
     "name": "stdout",
     "output_type": "stream",
     "text": [
      "0.4249455028623569\n"
     ]
    }
   ],
   "source": [
    "model_2 = LinearRegression()\n",
    "model_2.fit(features_transformed, target)\n",
    "predictions_2 = model_2.predict(features_transformed)\n",
    "r2_2 = r2_score(target, predictions_2)\n",
    "print(r2_2)"
   ]
  },
  {
   "cell_type": "code",
   "execution_count": 14,
   "id": "66382782",
   "metadata": {},
   "outputs": [
    {
     "name": "stdout",
     "output_type": "stream",
     "text": [
      "4.3232084578903596e-12\n"
     ]
    }
   ],
   "source": [
    "print(abs(r2_1 - r2_2))"
   ]
  },
  {
   "cell_type": "markdown",
   "id": "43ac8e19",
   "metadata": {},
   "source": [
    "Что мы получаем, по модулю разница метрик R2 полученных при разных условиях (без умножения на обратимую марицу и с умножением) - ничтожна мала. (рандомное значение) на 10 в -13 степени. Такая погрешность могла возникнуть по нескольким причинам: 1 - например изза округления чисел при вычислениях (численные апроксимации), 2 - возможно наличие какогото шума в данных."
   ]
  },
  {
   "cell_type": "markdown",
   "id": "3b79ace1",
   "metadata": {},
   "source": [
    "Соотвественно, чтобы дешифровать данные - нужно умножить зашифрованные данные на обратную матрицу нашей обратимой матрицы.\n",
    "\n",
    "X * M * M(-1) = X * E = X\n",
    "\n",
    "обратимая матрциа умножаясь на ее обратную даст \"едничную\", а произведение единичной на нашу исходную дает просто исходную. То же самое что: 5 * 1 = 5"
   ]
  },
  {
   "cell_type": "code",
   "execution_count": 15,
   "id": "98f23b10",
   "metadata": {},
   "outputs": [],
   "source": [
    "features_transformed_back = np.round((features_transformed.dot(np.linalg.inv(randinvert_matrix))))"
   ]
  },
  {
   "cell_type": "code",
   "execution_count": 16,
   "id": "f34b21d5",
   "metadata": {},
   "outputs": [
    {
     "data": {
      "text/html": [
       "<div>\n",
       "<style scoped>\n",
       "    .dataframe tbody tr th:only-of-type {\n",
       "        vertical-align: middle;\n",
       "    }\n",
       "\n",
       "    .dataframe tbody tr th {\n",
       "        vertical-align: top;\n",
       "    }\n",
       "\n",
       "    .dataframe thead th {\n",
       "        text-align: right;\n",
       "    }\n",
       "</style>\n",
       "<table border=\"1\" class=\"dataframe\">\n",
       "  <thead>\n",
       "    <tr style=\"text-align: right;\">\n",
       "      <th></th>\n",
       "      <th>0</th>\n",
       "      <th>1</th>\n",
       "      <th>2</th>\n",
       "      <th>3</th>\n",
       "    </tr>\n",
       "  </thead>\n",
       "  <tbody>\n",
       "    <tr>\n",
       "      <th>0</th>\n",
       "      <td>1.0</td>\n",
       "      <td>41.0</td>\n",
       "      <td>49600.0</td>\n",
       "      <td>1.0</td>\n",
       "    </tr>\n",
       "    <tr>\n",
       "      <th>1</th>\n",
       "      <td>0.0</td>\n",
       "      <td>46.0</td>\n",
       "      <td>38000.0</td>\n",
       "      <td>1.0</td>\n",
       "    </tr>\n",
       "    <tr>\n",
       "      <th>2</th>\n",
       "      <td>0.0</td>\n",
       "      <td>29.0</td>\n",
       "      <td>21000.0</td>\n",
       "      <td>0.0</td>\n",
       "    </tr>\n",
       "    <tr>\n",
       "      <th>3</th>\n",
       "      <td>0.0</td>\n",
       "      <td>21.0</td>\n",
       "      <td>41700.0</td>\n",
       "      <td>2.0</td>\n",
       "    </tr>\n",
       "    <tr>\n",
       "      <th>4</th>\n",
       "      <td>1.0</td>\n",
       "      <td>28.0</td>\n",
       "      <td>26100.0</td>\n",
       "      <td>0.0</td>\n",
       "    </tr>\n",
       "    <tr>\n",
       "      <th>...</th>\n",
       "      <td>...</td>\n",
       "      <td>...</td>\n",
       "      <td>...</td>\n",
       "      <td>...</td>\n",
       "    </tr>\n",
       "    <tr>\n",
       "      <th>4995</th>\n",
       "      <td>-0.0</td>\n",
       "      <td>28.0</td>\n",
       "      <td>35700.0</td>\n",
       "      <td>2.0</td>\n",
       "    </tr>\n",
       "    <tr>\n",
       "      <th>4996</th>\n",
       "      <td>0.0</td>\n",
       "      <td>34.0</td>\n",
       "      <td>52400.0</td>\n",
       "      <td>1.0</td>\n",
       "    </tr>\n",
       "    <tr>\n",
       "      <th>4997</th>\n",
       "      <td>0.0</td>\n",
       "      <td>20.0</td>\n",
       "      <td>33900.0</td>\n",
       "      <td>2.0</td>\n",
       "    </tr>\n",
       "    <tr>\n",
       "      <th>4998</th>\n",
       "      <td>1.0</td>\n",
       "      <td>22.0</td>\n",
       "      <td>32700.0</td>\n",
       "      <td>3.0</td>\n",
       "    </tr>\n",
       "    <tr>\n",
       "      <th>4999</th>\n",
       "      <td>1.0</td>\n",
       "      <td>28.0</td>\n",
       "      <td>40600.0</td>\n",
       "      <td>1.0</td>\n",
       "    </tr>\n",
       "  </tbody>\n",
       "</table>\n",
       "<p>5000 rows × 4 columns</p>\n",
       "</div>"
      ],
      "text/plain": [
       "        0     1        2    3\n",
       "0     1.0  41.0  49600.0  1.0\n",
       "1     0.0  46.0  38000.0  1.0\n",
       "2     0.0  29.0  21000.0  0.0\n",
       "3     0.0  21.0  41700.0  2.0\n",
       "4     1.0  28.0  26100.0  0.0\n",
       "...   ...   ...      ...  ...\n",
       "4995 -0.0  28.0  35700.0  2.0\n",
       "4996  0.0  34.0  52400.0  1.0\n",
       "4997  0.0  20.0  33900.0  2.0\n",
       "4998  1.0  22.0  32700.0  3.0\n",
       "4999  1.0  28.0  40600.0  1.0\n",
       "\n",
       "[5000 rows x 4 columns]"
      ]
     },
     "execution_count": 16,
     "metadata": {},
     "output_type": "execute_result"
    }
   ],
   "source": [
    "features_transformed_back"
   ]
  },
  {
   "cell_type": "code",
   "execution_count": 17,
   "id": "585f2090",
   "metadata": {},
   "outputs": [
    {
     "data": {
      "text/html": [
       "<div>\n",
       "<style scoped>\n",
       "    .dataframe tbody tr th:only-of-type {\n",
       "        vertical-align: middle;\n",
       "    }\n",
       "\n",
       "    .dataframe tbody tr th {\n",
       "        vertical-align: top;\n",
       "    }\n",
       "\n",
       "    .dataframe thead th {\n",
       "        text-align: right;\n",
       "    }\n",
       "</style>\n",
       "<table border=\"1\" class=\"dataframe\">\n",
       "  <thead>\n",
       "    <tr style=\"text-align: right;\">\n",
       "      <th></th>\n",
       "      <th>Пол</th>\n",
       "      <th>Возраст</th>\n",
       "      <th>Зарплата</th>\n",
       "      <th>Члены семьи</th>\n",
       "      <th>Страховые выплаты</th>\n",
       "    </tr>\n",
       "  </thead>\n",
       "  <tbody>\n",
       "    <tr>\n",
       "      <th>0</th>\n",
       "      <td>1</td>\n",
       "      <td>41.0</td>\n",
       "      <td>49600.0</td>\n",
       "      <td>1</td>\n",
       "      <td>0</td>\n",
       "    </tr>\n",
       "    <tr>\n",
       "      <th>1</th>\n",
       "      <td>0</td>\n",
       "      <td>46.0</td>\n",
       "      <td>38000.0</td>\n",
       "      <td>1</td>\n",
       "      <td>1</td>\n",
       "    </tr>\n",
       "    <tr>\n",
       "      <th>2</th>\n",
       "      <td>0</td>\n",
       "      <td>29.0</td>\n",
       "      <td>21000.0</td>\n",
       "      <td>0</td>\n",
       "      <td>0</td>\n",
       "    </tr>\n",
       "    <tr>\n",
       "      <th>3</th>\n",
       "      <td>0</td>\n",
       "      <td>21.0</td>\n",
       "      <td>41700.0</td>\n",
       "      <td>2</td>\n",
       "      <td>0</td>\n",
       "    </tr>\n",
       "    <tr>\n",
       "      <th>4</th>\n",
       "      <td>1</td>\n",
       "      <td>28.0</td>\n",
       "      <td>26100.0</td>\n",
       "      <td>0</td>\n",
       "      <td>0</td>\n",
       "    </tr>\n",
       "    <tr>\n",
       "      <th>...</th>\n",
       "      <td>...</td>\n",
       "      <td>...</td>\n",
       "      <td>...</td>\n",
       "      <td>...</td>\n",
       "      <td>...</td>\n",
       "    </tr>\n",
       "    <tr>\n",
       "      <th>4995</th>\n",
       "      <td>0</td>\n",
       "      <td>28.0</td>\n",
       "      <td>35700.0</td>\n",
       "      <td>2</td>\n",
       "      <td>0</td>\n",
       "    </tr>\n",
       "    <tr>\n",
       "      <th>4996</th>\n",
       "      <td>0</td>\n",
       "      <td>34.0</td>\n",
       "      <td>52400.0</td>\n",
       "      <td>1</td>\n",
       "      <td>0</td>\n",
       "    </tr>\n",
       "    <tr>\n",
       "      <th>4997</th>\n",
       "      <td>0</td>\n",
       "      <td>20.0</td>\n",
       "      <td>33900.0</td>\n",
       "      <td>2</td>\n",
       "      <td>0</td>\n",
       "    </tr>\n",
       "    <tr>\n",
       "      <th>4998</th>\n",
       "      <td>1</td>\n",
       "      <td>22.0</td>\n",
       "      <td>32700.0</td>\n",
       "      <td>3</td>\n",
       "      <td>0</td>\n",
       "    </tr>\n",
       "    <tr>\n",
       "      <th>4999</th>\n",
       "      <td>1</td>\n",
       "      <td>28.0</td>\n",
       "      <td>40600.0</td>\n",
       "      <td>1</td>\n",
       "      <td>0</td>\n",
       "    </tr>\n",
       "  </tbody>\n",
       "</table>\n",
       "<p>5000 rows × 5 columns</p>\n",
       "</div>"
      ],
      "text/plain": [
       "      Пол  Возраст  Зарплата  Члены семьи  Страховые выплаты\n",
       "0       1     41.0   49600.0            1                  0\n",
       "1       0     46.0   38000.0            1                  1\n",
       "2       0     29.0   21000.0            0                  0\n",
       "3       0     21.0   41700.0            2                  0\n",
       "4       1     28.0   26100.0            0                  0\n",
       "...   ...      ...       ...          ...                ...\n",
       "4995    0     28.0   35700.0            2                  0\n",
       "4996    0     34.0   52400.0            1                  0\n",
       "4997    0     20.0   33900.0            2                  0\n",
       "4998    1     22.0   32700.0            3                  0\n",
       "4999    1     28.0   40600.0            1                  0\n",
       "\n",
       "[5000 rows x 5 columns]"
      ]
     },
     "execution_count": 17,
     "metadata": {},
     "output_type": "execute_result"
    }
   ],
   "source": [
    "data"
   ]
  },
  {
   "cell_type": "markdown",
   "id": "8c7f9750",
   "metadata": {},
   "source": [
    "Из- за делений и умножений получаются не очень приятные данные и не \"чистый ноль\", там где он должен быть. поэтому пришлось округлить данные для целого, чтобы получить наши первоначальные целые значения."
   ]
  },
  {
   "cell_type": "markdown",
   "id": "2be18b41",
   "metadata": {},
   "source": [
    "Зашифровать данные клиентов можно используя обратимую матрицу, с рандомными значениями. Как это было сделано/показано/доказано в предыдущем пункте.\n",
    "\n",
    "Умножение признаков на значения обратимой марицы не меняет линейную зависиомсть между признаки и целевыми значениями. В качестве формулы доказательство тоже было в пункте 2. Даже после умножения признаков на обратимую матрицу, линейная регрессия все равно  предсказывает с тем же качеством, что и в исходной модели без умножения. Поэтому метрики качества получаются приближенно равными. "
   ]
  },
  {
   "cell_type": "markdown",
   "id": "8c48024e",
   "metadata": {},
   "source": [
    "## Вывод:\n",
    "\n",
    "Выяснили, разобрались и доказали, что качество линейной регрессии на первоначальных признаках и на зашифрованных признаках (путем домножения рандомной обратимой матрицы), можно считать, что никак не меняется. Опробовали эту \"теорему\" на наших исодных личных данных страховой компании. Получили значение метрики R2 линейной регресиси на исходных данных = 0.4249455028666801 и R2 линейной регресиси на зашифрованных данных = 0.4249455028662076. Разница по модулю составила - 4.7 на 10 в -13 степени. Что можно считать ничтожно малым изменением, потому сочли, что качество модели от домножения на обратимую матрицу - не страдает. \n",
    "\n",
    "Ну, а чтобы дешифровать исходные данные, достаточно умножить зашифрованные данные на обратную матрицу нашей обратимой матрицы. Если значения целые, то стоит еще использовать округление до целого, чтобы не испугаться результата деления=) Получается как и всегда, чтобы дешифровать данные - необходимо значит ключ шифрования. Возможно, если бы Цезарь знал ЛАГ, то возможно придумал бы что-то посложнее для своих шифров))) Ибо в нашем случае, чтобы расшифровать все данные необходимо знать все значения обратимой матрицы с максимальной точностью и правильной размерности - иначе ничего не выйдет или получаться искаженные значения."
   ]
  }
 ],
 "metadata": {
  "ExecuteTimeLog": [
   {
    "duration": 1940,
    "start_time": "2023-08-06T21:18:02.217Z"
   },
   {
    "duration": 73,
    "start_time": "2023-08-06T21:18:04.160Z"
   },
   {
    "duration": 27,
    "start_time": "2023-08-06T21:18:04.235Z"
   },
   {
    "duration": 11,
    "start_time": "2023-08-06T21:18:04.264Z"
   },
   {
    "duration": 4,
    "start_time": "2023-08-06T21:18:04.276Z"
   },
   {
    "duration": 5,
    "start_time": "2023-08-06T21:18:04.281Z"
   },
   {
    "duration": 4,
    "start_time": "2023-08-06T21:18:04.288Z"
   },
   {
    "duration": 122,
    "start_time": "2023-08-06T21:18:04.294Z"
   },
   {
    "duration": 0,
    "start_time": "2023-08-06T21:18:04.418Z"
   },
   {
    "duration": 0,
    "start_time": "2023-08-06T21:18:04.420Z"
   },
   {
    "duration": 0,
    "start_time": "2023-08-06T21:18:04.420Z"
   },
   {
    "duration": 0,
    "start_time": "2023-08-06T21:18:04.421Z"
   },
   {
    "duration": 0,
    "start_time": "2023-08-06T21:18:04.422Z"
   },
   {
    "duration": 0,
    "start_time": "2023-08-06T21:18:04.423Z"
   },
   {
    "duration": 1762,
    "start_time": "2023-08-06T21:21:50.997Z"
   },
   {
    "duration": 51,
    "start_time": "2023-08-06T21:21:52.761Z"
   },
   {
    "duration": 20,
    "start_time": "2023-08-06T21:21:52.814Z"
   },
   {
    "duration": 11,
    "start_time": "2023-08-06T21:21:52.836Z"
   },
   {
    "duration": 11,
    "start_time": "2023-08-06T21:21:52.849Z"
   },
   {
    "duration": 19,
    "start_time": "2023-08-06T21:21:52.861Z"
   },
   {
    "duration": 16,
    "start_time": "2023-08-06T21:21:52.882Z"
   },
   {
    "duration": 91,
    "start_time": "2023-08-06T21:21:52.900Z"
   },
   {
    "duration": 0,
    "start_time": "2023-08-06T21:21:52.993Z"
   },
   {
    "duration": 0,
    "start_time": "2023-08-06T21:21:52.994Z"
   },
   {
    "duration": 0,
    "start_time": "2023-08-06T21:21:52.996Z"
   },
   {
    "duration": 0,
    "start_time": "2023-08-06T21:21:52.996Z"
   },
   {
    "duration": 0,
    "start_time": "2023-08-06T21:21:52.997Z"
   },
   {
    "duration": 0,
    "start_time": "2023-08-06T21:21:52.998Z"
   },
   {
    "duration": 2011,
    "start_time": "2023-08-07T08:11:10.469Z"
   },
   {
    "duration": 94,
    "start_time": "2023-08-07T08:11:12.483Z"
   },
   {
    "duration": 24,
    "start_time": "2023-08-07T08:11:12.579Z"
   },
   {
    "duration": 15,
    "start_time": "2023-08-07T08:11:12.605Z"
   },
   {
    "duration": 16,
    "start_time": "2023-08-07T08:11:12.622Z"
   },
   {
    "duration": 45,
    "start_time": "2023-08-07T08:11:12.639Z"
   },
   {
    "duration": 5,
    "start_time": "2023-08-07T08:11:12.686Z"
   },
   {
    "duration": 99,
    "start_time": "2023-08-07T08:11:12.693Z"
   },
   {
    "duration": 0,
    "start_time": "2023-08-07T08:11:12.794Z"
   },
   {
    "duration": 0,
    "start_time": "2023-08-07T08:11:12.796Z"
   },
   {
    "duration": 0,
    "start_time": "2023-08-07T08:11:12.797Z"
   },
   {
    "duration": 0,
    "start_time": "2023-08-07T08:11:12.798Z"
   },
   {
    "duration": 0,
    "start_time": "2023-08-07T08:11:12.799Z"
   },
   {
    "duration": 0,
    "start_time": "2023-08-07T08:11:12.800Z"
   },
   {
    "duration": 1869,
    "start_time": "2023-08-07T08:24:30.982Z"
   },
   {
    "duration": 1688,
    "start_time": "2023-08-07T08:25:11.348Z"
   },
   {
    "duration": 13,
    "start_time": "2023-08-07T08:25:40.715Z"
   },
   {
    "duration": 201,
    "start_time": "2023-08-07T08:25:57.078Z"
   },
   {
    "duration": 21,
    "start_time": "2023-08-07T08:26:01.680Z"
   },
   {
    "duration": 5,
    "start_time": "2023-08-07T08:26:09.005Z"
   },
   {
    "duration": 6,
    "start_time": "2023-08-07T08:26:31.715Z"
   },
   {
    "duration": 6,
    "start_time": "2023-08-07T08:26:34.379Z"
   },
   {
    "duration": 12,
    "start_time": "2023-08-07T08:26:36.057Z"
   },
   {
    "duration": 9,
    "start_time": "2023-08-07T08:26:37.869Z"
   },
   {
    "duration": 6,
    "start_time": "2023-08-07T08:26:41.146Z"
   },
   {
    "duration": 5,
    "start_time": "2023-08-07T08:26:43.399Z"
   },
   {
    "duration": 2085,
    "start_time": "2023-08-07T14:48:50.817Z"
   },
   {
    "duration": 74,
    "start_time": "2023-08-07T14:48:52.904Z"
   },
   {
    "duration": 34,
    "start_time": "2023-08-07T14:48:52.979Z"
   },
   {
    "duration": 22,
    "start_time": "2023-08-07T14:48:53.016Z"
   },
   {
    "duration": 55,
    "start_time": "2023-08-07T14:48:53.040Z"
   },
   {
    "duration": 9,
    "start_time": "2023-08-07T14:48:53.097Z"
   },
   {
    "duration": 17,
    "start_time": "2023-08-07T14:48:53.108Z"
   },
   {
    "duration": 53,
    "start_time": "2023-08-07T14:48:53.127Z"
   },
   {
    "duration": 65,
    "start_time": "2023-08-07T14:48:53.182Z"
   },
   {
    "duration": 26,
    "start_time": "2023-08-07T14:48:53.250Z"
   },
   {
    "duration": 29,
    "start_time": "2023-08-07T14:48:53.278Z"
   },
   {
    "duration": 83,
    "start_time": "2023-08-07T14:48:53.309Z"
   },
   {
    "duration": 126,
    "start_time": "2023-08-07T14:48:53.394Z"
   },
   {
    "duration": 76,
    "start_time": "2023-08-07T14:48:53.522Z"
   },
   {
    "duration": 87,
    "start_time": "2023-08-07T14:48:53.600Z"
   },
   {
    "duration": 100,
    "start_time": "2023-08-07T14:48:53.690Z"
   },
   {
    "duration": 34,
    "start_time": "2023-08-07T14:48:53.793Z"
   }
  ],
  "kernelspec": {
   "display_name": "Python 3 (ipykernel)",
   "language": "python",
   "name": "python3"
  },
  "language_info": {
   "codemirror_mode": {
    "name": "ipython",
    "version": 3
   },
   "file_extension": ".py",
   "mimetype": "text/x-python",
   "name": "python",
   "nbconvert_exporter": "python",
   "pygments_lexer": "ipython3",
   "version": "3.8.18"
  },
  "toc": {
   "base_numbering": 1,
   "nav_menu": {},
   "number_sections": true,
   "sideBar": true,
   "skip_h1_title": true,
   "title_cell": "Table of Contents",
   "title_sidebar": "Contents",
   "toc_cell": false,
   "toc_position": {},
   "toc_section_display": true,
   "toc_window_display": false
  }
 },
 "nbformat": 4,
 "nbformat_minor": 5
}
